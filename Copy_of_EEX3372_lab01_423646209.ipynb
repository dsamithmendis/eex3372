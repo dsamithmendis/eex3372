{
  "nbformat": 4,
  "nbformat_minor": 0,
  "metadata": {
    "colab": {
      "provenance": [],
      "include_colab_link": true
    },
    "kernelspec": {
      "name": "python3",
      "display_name": "Python 3"
    },
    "language_info": {
      "name": "python"
    }
  },
  "cells": [
    {
      "cell_type": "markdown",
      "metadata": {
        "id": "view-in-github",
        "colab_type": "text"
      },
      "source": [
        "<a href=\"https://colab.research.google.com/github/dsamithmendis/eex3372/blob/main/Copy_of_EEX3372_lab01_423646209.ipynb\" target=\"_parent\"><img src=\"https://colab.research.google.com/assets/colab-badge.svg\" alt=\"Open In Colab\"/></a>"
      ]
    },
    {
      "cell_type": "markdown",
      "source": [
        "EEX3372 - PROGRAMMING IN PYTHON [ LAB – 01 ]"
      ],
      "metadata": {
        "id": "glId6Pr7Egub"
      }
    },
    {
      "cell_type": "markdown",
      "source": [
        "1. Write a python program that takes two numbers from the user and prints their sum, difference, product, and quotient."
      ],
      "metadata": {
        "id": "fuJm6bE6EMg2"
      }
    },
    {
      "cell_type": "code",
      "execution_count": null,
      "metadata": {
        "colab": {
          "base_uri": "https://localhost:8080/"
        },
        "id": "OllbqRS8E0bd",
        "outputId": "a41eeb81-2a38-4a8d-fe5b-e56013d522bf"
      },
      "outputs": [
        {
          "output_type": "stream",
          "name": "stdout",
          "text": [
            "Enter first number: 8\n",
            "Enter second number: 5\n",
            "Sum: 13.0\n",
            "Difference: 3.0\n",
            "Product: 40.0\n",
            "Quotient: 1.6\n"
          ]
        }
      ],
      "source": [
        "#Get user inputs\n",
        "num1 = float(input(\"Enter first number: \"))  #Input first number\n",
        "num2 = float(input(\"Enter second number: \"))  #Input second number\n",
        "\n",
        "#Perform arithmetic operations and display results\n",
        "print(f\"Sum: {num1 + num2}\")  #Addition\n",
        "print(f\"Difference: {num1 - num2}\")  #Subtraction\n",
        "print(f\"Product: {num1 * num2}\")  #Multiplication\n",
        "print(f\"Quotient: {num1 / num2}\")  #Division"
      ]
    },
    {
      "cell_type": "markdown",
      "source": [
        "2. Write a Python program to satisfy the following criteria:\n",
        "\n",
        "*   PT1, PT2, PT3, PT4, and PT5 are 5 practical tests.\n",
        "*   F is the final paper.\n",
        "*   Z is the overall mark.\n",
        "\n",
        "Evaluation criteria:\n",
        "\n",
        "*   Z=0.6×average(PT1,PT2,PT3,PT4,PT5)+0.4*F\n",
        "\n",
        "If Z>=50, the student passes. Else, the student fails."
      ],
      "metadata": {
        "id": "TU9s_ms7E-9h"
      }
    },
    {
      "cell_type": "code",
      "source": [
        "#Get user input for practical test marks\n",
        "PTs = [float(input(f\"Enter mark for PT{i+1}: \")) for i in range(5)]\n",
        "\n",
        "#Get user input for final exam mark\n",
        "F = float(input(\"Enter final exam mark: \"))\n",
        "\n",
        "#Calculate overall mark using weighted average (60% practical tests, 40% final exam)\n",
        "Z = 0.6 * (sum(PTs) / len(PTs)) + 0.4 * F\n",
        "\n",
        "#Determine pass/fail status\n",
        "status = \"Pass\" if Z >= 50 else \"Fail\"\n",
        "\n",
        "#Display overall mark and status\n",
        "print(f\"Overall Mark: {Z}, Status: {status}\")"
      ],
      "metadata": {
        "colab": {
          "base_uri": "https://localhost:8080/"
        },
        "id": "ynlnuF3XFhQ5",
        "outputId": "5ff68eff-e81b-46b5-ccb1-1bcb465f2828"
      },
      "execution_count": null,
      "outputs": [
        {
          "output_type": "stream",
          "name": "stdout",
          "text": [
            "Enter mark for PT1: 75\n",
            "Enter mark for PT2: 80\n",
            "Enter mark for PT3: 65\n",
            "Enter mark for PT4: 70\n",
            "Enter mark for PT5: 85\n",
            "Enter final exam mark: 72\n",
            "Overall Mark: 73.8, Status: Pass\n"
          ]
        }
      ]
    },
    {
      "cell_type": "markdown",
      "source": [
        "3. Write best data types of each variable and explain why.\n",
        "\n",
        "Variable ---> Data Type\n",
        "\n",
        "PTs --- > float\n",
        "\n",
        "F ---> float\n",
        "\n",
        "Z ---> float\n",
        "\n",
        "status ---> str"
      ],
      "metadata": {
        "id": "rdbqJSqwGhM0"
      }
    },
    {
      "cell_type": "markdown",
      "source": [
        "4. Modify the program to ensure that the user inputs valid numerical values for the practical tests and the final exam mark. If the input is invalid, prompt the user to enter a valid number."
      ],
      "metadata": {
        "id": "NoJTnfwmHj1M"
      }
    },
    {
      "cell_type": "code",
      "source": [
        "# Function to repeatedly prompt the user until a valid float in the range 0–100 is entered\n",
        "def get_valid_float(prompt):\n",
        "    while True:\n",
        "        try:\n",
        "            value = float(input(prompt))\n",
        "            if 0 <= value <= 100:\n",
        "                return value\n",
        "            else:\n",
        "                print(\"Invalid input. Please enter a number between 0 and 100.\")\n",
        "        except ValueError:\n",
        "            print(\"Invalid input. Please enter a valid number.\")\n",
        "\n",
        "#Get user input for 5 practical test marks with validation\n",
        "PTs = [get_valid_float(f\"Enter mark for PT{i+1}: \") for i in range(5)]\n",
        "\n",
        "#Get user input for the final exam mark with validation\n",
        "F = get_valid_float(\"Enter final exam mark: \")\n",
        "\n",
        "#Calculate the average of practical test scores\n",
        "average_PT = sum(PTs) / len(PTs)\n",
        "\n",
        "#Calculate overall mark using weighted average (60% practical tests, 40% final exam)\n",
        "Z = 0.6 * average_PT + 0.4 * F\n",
        "\n",
        "#Determine if the student passes (Z >= 50) or fails\n",
        "status = \"Pass\" if Z >= 50 else \"Fail\"\n",
        "\n",
        "#Display the overall mark rounded to 2 decimal places and the final status\n",
        "print(f\"\\nOverall Mark: {Z:.2f}\")\n",
        "print(f\"Status: {status}\")"
      ],
      "metadata": {
        "colab": {
          "base_uri": "https://localhost:8080/"
        },
        "outputId": "7c4d21c8-e13a-4bd4-fa57-e8631fb017d7",
        "id": "G-xgNz2MWZAL"
      },
      "execution_count": null,
      "outputs": [
        {
          "output_type": "stream",
          "name": "stdout",
          "text": [
            "Enter mark for PT1: abc\n",
            "Invalid input. Please enter a valid number.\n",
            "Enter mark for PT1: 70\n",
            "Enter mark for PT2: -5\n",
            "Invalid input. Please enter a number between 0 and 100.\n",
            "Enter mark for PT2: 60\n",
            "Enter mark for PT3: 75.5\n",
            "Enter mark for PT4: 68\n",
            "Enter mark for PT5: ninety\n",
            "Invalid input. Please enter a valid number.\n",
            "Enter mark for PT5: 72\n",
            "Enter final exam mark: 85\n",
            "\n",
            "Overall Mark: 75.46\n",
            "Status: Pass\n"
          ]
        }
      ]
    },
    {
      "cell_type": "markdown",
      "source": [
        "5. Extend the program to assign a letter grade based on the overall marks Z. Use the following scale:\n",
        "\n",
        "*   Z≥90: Grade A\n",
        "*   80≤Z<90: Grade B\n",
        "*   70≤Z<80: Grade C\n",
        "*   60≤Z<70: Grade D\n",
        "*   Z<60: Grade F"
      ],
      "metadata": {
        "id": "14tpzL2DIHLA"
      }
    },
    {
      "cell_type": "code",
      "source": [
        "# Function to repeatedly prompt the user until a valid float in the range 0–100 is entered\n",
        "def get_valid_float(prompt):\n",
        "    while True:\n",
        "        try:\n",
        "            value = float(input(prompt))\n",
        "            if 0 <= value <= 100:\n",
        "                return value\n",
        "            else:\n",
        "                print(\"Invalid input. Please enter a number between 0 and 100.\")\n",
        "        except ValueError:\n",
        "            print(\"Invalid input. Please enter a valid number.\")\n",
        "\n",
        "#Get user input for 5 practical test marks with validation\n",
        "PTs = [get_valid_float(f\"Enter mark for PT{i+1}: \") for i in range(5)]\n",
        "\n",
        "#Get user input for the final exam mark with validation\n",
        "F = get_valid_float(\"Enter final exam mark: \")\n",
        "\n",
        "#Calculate the average of practical test scores\n",
        "average_PT = sum(PTs) / len(PTs)\n",
        "\n",
        "#Calculate overall mark using weighted average (60% practical tests, 40% final exam)\n",
        "Z = 0.6 * average_PT + 0.4 * F\n",
        "\n",
        "#Determine pass/fail status\n",
        "status = \"Pass\" if Z >= 50 else \"Fail\"\n",
        "\n",
        "#Assign letter grade based on the value of Z\n",
        "if Z >= 90:\n",
        "    grade = \"A\"\n",
        "elif Z >= 80:\n",
        "    grade = \"B\"\n",
        "elif Z >= 70:\n",
        "    grade = \"C\"\n",
        "elif Z >= 60:\n",
        "    grade = \"D\"\n",
        "else:\n",
        "    grade = \"F\"\n",
        "\n",
        "#Display the overall mark, status, and letter grade\n",
        "print(f\"\\nOverall Mark: {Z:.2f}\")\n",
        "print(f\"Status: {status}\")\n",
        "print(f\"Grade: {grade}\")"
      ],
      "metadata": {
        "colab": {
          "base_uri": "https://localhost:8080/"
        },
        "outputId": "fe36261e-baca-4ca3-ca98-9cf1c2da808d",
        "id": "XY36y49cWEz4"
      },
      "execution_count": null,
      "outputs": [
        {
          "output_type": "stream",
          "name": "stdout",
          "text": [
            "Enter mark for PT1: abc\n",
            "Invalid input. Please enter a valid number.\n",
            "Enter mark for PT1: 70\n",
            "Enter mark for PT2: 68.5\n",
            "Enter mark for PT3: -12\n",
            "Invalid input. Please enter a number between 0 and 100.\n",
            "Enter mark for PT3: 75\n",
            "Enter mark for PT4: sixty\n",
            "Invalid input. Please enter a valid number.\n",
            "Enter mark for PT4: 74\n",
            "Enter mark for PT5: 72.3\n",
            "Enter final exam mark: 85.6\n",
            "\n",
            "Overall Mark: 77.42\n",
            "Status: Pass\n",
            "Grade: C\n"
          ]
        }
      ]
    },
    {
      "cell_type": "markdown",
      "source": [
        "6. Modify the program to allow the user to input any number of practical test marks (instead of a fixed number). Calculate the average of the entered practical test marks and use it in the evaluation criteria."
      ],
      "metadata": {
        "id": "0OvNyP2IVry0"
      }
    },
    {
      "cell_type": "code",
      "source": [
        "# Function to repeatedly prompt the user until a valid float in the range 0–100 is entered\n",
        "def get_valid_float(prompt):\n",
        "    while True:\n",
        "        try:\n",
        "            value = float(input(prompt))\n",
        "            if 0 <= value <= 100:\n",
        "                return value\n",
        "            else:\n",
        "                print(\"Invalid input. Please enter a number between 0 and 100.\")\n",
        "        except ValueError:\n",
        "            print(\"Invalid input. Please enter a valid number.\")\n",
        "\n",
        "#Get number of practical test marks to enter\n",
        "while True:\n",
        "    try:\n",
        "        num_tests = int(input(\"Enter the number of practical tests: \"))\n",
        "        if num_tests <= 0:\n",
        "            print(\"Please enter a positive number.\")\n",
        "        else:\n",
        "            break\n",
        "    except ValueError:\n",
        "        print(\"Invalid input. Please enter an integer.\")\n",
        "\n",
        "#Get practical test marks\n",
        "PTs = []\n",
        "for i in range(num_tests):\n",
        "    mark = get_valid_float(f\"Enter mark for PT{i+1}: \")\n",
        "    PTs.append(mark)\n",
        "\n",
        "#Get final exam mark\n",
        "F = get_valid_float(\"Enter final exam mark: \")\n",
        "\n",
        "#Calculate average of practical tests\n",
        "average_PT = sum(PTs) / len(PTs)\n",
        "\n",
        "#Calculate overall mark using weighted average (60% practical tests, 40% final exam)\n",
        "Z = 0.6 * average_PT + 0.4 * F\n",
        "\n",
        "#Determine pass/fail status\n",
        "status = \"Pass\" if Z >= 50 else \"Fail\"\n",
        "\n",
        "#Assign letter grade\n",
        "if Z >= 90:\n",
        "    grade = \"A\"\n",
        "elif Z >= 80:\n",
        "    grade = \"B\"\n",
        "elif Z >= 70:\n",
        "    grade = \"C\"\n",
        "elif Z >= 60:\n",
        "    grade = \"D\"\n",
        "else:\n",
        "    grade = \"F\"\n",
        "\n",
        "#Display results\n",
        "print(f\"\\nAverage of Practical Tests: {average_PT:.2f}\")\n",
        "print(f\"Overall Mark (Z): {Z:.2f}\")\n",
        "print(f\"Status: {status}\")\n",
        "print(f\"Grade: {grade}\")"
      ],
      "metadata": {
        "colab": {
          "base_uri": "https://localhost:8080/"
        },
        "id": "1U_67TGIJFb-",
        "outputId": "4171146e-3956-4aa4-dcb4-dddebc39d2f1"
      },
      "execution_count": null,
      "outputs": [
        {
          "output_type": "stream",
          "name": "stdout",
          "text": [
            "Enter the number of practical tests: 5\n",
            "Enter mark for PT1: -7\n",
            "Invalid input. Please enter a number between 0 and 100.\n",
            "Enter mark for PT1: 78\n",
            "Enter mark for PT2: six\n",
            "Invalid input. Please enter a valid number.\n",
            "Enter mark for PT2: 89\n",
            "Enter mark for PT3: 76\n",
            "Enter mark for PT4: 1000\n",
            "Invalid input. Please enter a number between 0 and 100.\n",
            "Enter mark for PT4: 79\n",
            "Enter mark for PT5: 65\n",
            "Enter final exam mark: 98\n",
            "\n",
            "Average of Practical Tests: 77.40\n",
            "Overall Mark (Z): 85.64\n",
            "Status: Pass\n",
            "Grade: B\n"
          ]
        }
      ]
    },
    {
      "cell_type": "markdown",
      "source": [
        "Question numbers from 7 to 11 are based on the following python program.\n",
        "This Python program defines functions for managing a customer queue system."
      ],
      "metadata": {
        "id": "7qjjLO2zOTW2"
      }
    },
    {
      "cell_type": "code",
      "source": [
        "def add_customer(queue, name):\n",
        "    queue.append(name)\n",
        "    print(f\"{name} has been added to the queue.\")\n",
        "\n",
        "def serve_customer(queue):\n",
        "    if queue:\n",
        "        served_customer = queue.pop(0)\n",
        "        print(f\"Serving {served_customer}\")\n",
        "    else:\n",
        "        print(\"No customers are waiting.\")\n",
        "\n",
        "def display_queue(queue):\n",
        "    if queue:\n",
        "        print(\"Current queue:\", \" -> \".join(queue))\n",
        "    else:\n",
        "        print(\"The queue is empty.\")\n",
        "\n",
        "def main():\n",
        "    queue = []\n",
        "    while True:\n",
        "        print(\"\\nOptions:\")\n",
        "        print(\"1. Add Customer\")\n",
        "        print(\"2. Serve Customer\")\n",
        "        print(\"3. Display Queue\")\n",
        "        print(\"4. Exit\")\n",
        "        choice = input(\"Enter your choice: \")\n",
        "\n",
        "        if choice == \"1\":\n",
        "            name = input(\"Enter customer name: \")\n",
        "            add_customer(queue, name)\n",
        "        elif choice == \"2\":\n",
        "            serve_customer(queue)\n",
        "        elif choice == \"3\":\n",
        "            display_queue(queue)\n",
        "        elif choice == \"4\":\n",
        "            break\n",
        "        else:\n",
        "            print(\"Invalid choice. Please try again.\")\n",
        "\n",
        "if __name__ == \"__main__\":\n",
        "    main()"
      ],
      "metadata": {
        "id": "up5QF3LZOSXM"
      },
      "execution_count": null,
      "outputs": []
    },
    {
      "cell_type": "markdown",
      "source": [
        "Analyze the code and answer the following questions:"
      ],
      "metadata": {
        "id": "G4qlxO3SRhsJ"
      }
    },
    {
      "cell_type": "markdown",
      "source": [
        "7. What is the purpose of the add_customer function?"
      ],
      "metadata": {
        "id": "7ZTMBnDFRrmE"
      }
    },
    {
      "cell_type": "markdown",
      "source": [
        "The add_customer function puts a customer at the back of the queue.\n",
        "It receives list of customers and customer’s name as arguments, adds the name to the list and prints a notice."
      ],
      "metadata": {
        "id": "Qb8JMDjFRtii"
      }
    },
    {
      "cell_type": "markdown",
      "source": [
        "8. Explain the functionality of the serve_customer function."
      ],
      "metadata": {
        "id": "I0RNTG10R2MX"
      }
    },
    {
      "cell_type": "markdown",
      "source": [
        "The first line in the code shows how to serve a customer waiting for service. If the queue isn’t empty, it will remove the first element (in FIFO order) and output a suitable message. Should the queue be empty, the user receives word."
      ],
      "metadata": {
        "id": "onubMYNXR7so"
      }
    },
    {
      "cell_type": "markdown",
      "source": [
        "9. How does the display_queue function display the queue contents?"
      ],
      "metadata": {
        "id": "oavjqU9rSFA9"
      }
    },
    {
      "cell_type": "markdown",
      "source": [
        "The task of the display_queue function is look to see if anyone is waiting in line. If we use the queue, it joins the names with arrows (->) using the function \" -> \".join(queue). If there’s no one waiting, it displays a suitable message."
      ],
      "metadata": {
        "id": "8FWLFConSKuJ"
      }
    },
    {
      "cell_type": "markdown",
      "source": [
        "10.Describe the main loop (the main function) and how it interacts with the user."
      ],
      "metadata": {
        "id": "HzlR8AzOSWd0"
      }
    },
    {
      "cell_type": "markdown",
      "source": [
        "void main() - Creates an empty queue.\n",
        "\n",
        "Once opened, a menu of options is visible until the user chooses to end the program. Asks for a choice from the user and then executes the matching function for the game. Bases its direction on conditions using if, elif or else."
      ],
      "metadata": {
        "id": "RG7-5J-5ShmJ"
      }
    },
    {
      "cell_type": "markdown",
      "source": [
        "11. Identify two improvements that could be made to the code. Justify your suggestions."
      ],
      "metadata": {
        "id": "wlYa8umbS6h5"
      }
    },
    {
      "cell_type": "markdown",
      "source": [
        "Improvement 1: Ability to store the history of previous customer orders\n",
        "\n",
        "Justification:\n",
        "\n",
        "Once a customer is attended to, their name is eliminated and never seen again. Having a list of\n",
        "customers who have been served allows the program to store valuable information used in logs,\n",
        "receipts or analytics.\n",
        "\n",
        "Improvement 2: Option to clear the queue\n",
        "\n",
        "Justification:\n",
        "\n",
        "Having a feature to control the queue allows for improved end-of-day work, test runs and dealing\n",
        "with new sets of customers. It makes things easier for the user to handle."
      ],
      "metadata": {
        "id": "8u6-XqRxS-vQ"
      }
    },
    {
      "cell_type": "markdown",
      "source": [
        "Final code"
      ],
      "metadata": {
        "id": "jD2vDHm_TOvi"
      }
    },
    {
      "cell_type": "code",
      "source": [
        "#Function to add a customer to the queue\n",
        "def add_customer(queue, name):\n",
        "    queue.append(name)  #Add the customer to the end of the queue\n",
        "    print(f\"{name} has been added to the queue.\")\n",
        "\n",
        "#Function to serve the first customer in the queue\n",
        "def serve_customer(queue, served_customers):\n",
        "    if queue:\n",
        "        served_customer = queue.pop(0)  #Remove the first customer (FIFO)\n",
        "        served_customers.append(served_customer)  #Save to served customer history\n",
        "        print(f\"Serving {served_customer}\")\n",
        "    else:\n",
        "        print(\"No customers are waiting.\")  #If the queue is empty\n",
        "\n",
        "#Function to display the current queue\n",
        "def display_queue(queue):\n",
        "    if queue:\n",
        "        print(\"Current queue:\")\n",
        "        for i, name in enumerate(queue, start=1):\n",
        "            print(f\"{i}. {name}\")  #Display each customer with their position\n",
        "    else:\n",
        "        print(\"The queue is empty.\")  #No customers in queue\n",
        "\n",
        "#Function to display all served customers so far\n",
        "def display_served_customers(served_customers):\n",
        "    if served_customers:\n",
        "        print(\"Served customers:\")\n",
        "        for i, name in enumerate(served_customers, start=1):\n",
        "            print(f\"{i}. {name}\")  #Display served customer history\n",
        "    else:\n",
        "        print(\"No customers have been served yet.\")\n",
        "\n",
        "#Main function that drives the program\n",
        "def main():\n",
        "    queue = []  #List to store waiting customers\n",
        "    served_customers = []  #List to store served customers\n",
        "\n",
        "    while True:\n",
        "        #Display menu options\n",
        "        print(\"\\nOptions:\")\n",
        "        print(\"1. Add Customer\")\n",
        "        print(\"2. Serve Customer\")\n",
        "        print(\"3. Display Queue\")\n",
        "        print(\"4. Display Served Customers\")\n",
        "        print(\"5. Clear Queue\")\n",
        "        print(\"6. Exit\")\n",
        "\n",
        "        choice = input(\"Enter your choice: \")  #Get user menu choice\n",
        "\n",
        "        #Perform action based on user input\n",
        "        if choice == \"1\":\n",
        "            name = input(\"Enter customer name: \")\n",
        "            add_customer(queue, name)  #Add customer to queue\n",
        "        elif choice == \"2\":\n",
        "            serve_customer(queue, served_customers)  #Serve next customer\n",
        "        elif choice == \"3\":\n",
        "            display_queue(queue)  #Show current queue\n",
        "        elif choice == \"4\":\n",
        "            display_served_customers(served_customers)  #Show served history\n",
        "        elif choice == \"5\":\n",
        "            queue.clear()  #Clear all customers in queue\n",
        "            print(\"The queue has been cleared.\")\n",
        "        elif choice == \"6\":\n",
        "            print(\"Exiting...\")  #Exit the program\n",
        "            break\n",
        "        else:\n",
        "            print(\"Invalid choice. Please try again.\")  #Handle wrong input\n",
        "\n",
        "#Ensure the main function runs only when this file is executed directly\n",
        "if __name__ == \"__main__\":\n",
        "    main()"
      ],
      "metadata": {
        "colab": {
          "base_uri": "https://localhost:8080/"
        },
        "id": "ojnqfWSmS0xt",
        "outputId": "034d707d-512f-4836-8d06-665b521ba5fc"
      },
      "execution_count": null,
      "outputs": [
        {
          "output_type": "stream",
          "name": "stdout",
          "text": [
            "\n",
            "Options:\n",
            "1. Add Customer\n",
            "2. Serve Customer\n",
            "3. Display Queue\n",
            "4. Display Served Customers\n",
            "5. Clear Queue\n",
            "6. Exit\n",
            "Enter your choice: 1\n",
            "Enter customer name: samith\n",
            "samith has been added to the queue.\n",
            "\n",
            "Options:\n",
            "1. Add Customer\n",
            "2. Serve Customer\n",
            "3. Display Queue\n",
            "4. Display Served Customers\n",
            "5. Clear Queue\n",
            "6. Exit\n",
            "Enter your choice: 2\n",
            "Serving samith\n",
            "\n",
            "Options:\n",
            "1. Add Customer\n",
            "2. Serve Customer\n",
            "3. Display Queue\n",
            "4. Display Served Customers\n",
            "5. Clear Queue\n",
            "6. Exit\n",
            "Enter your choice: 3\n",
            "The queue is empty.\n",
            "\n",
            "Options:\n",
            "1. Add Customer\n",
            "2. Serve Customer\n",
            "3. Display Queue\n",
            "4. Display Served Customers\n",
            "5. Clear Queue\n",
            "6. Exit\n",
            "Enter your choice: 4\n",
            "Served customers:\n",
            "1. samith\n",
            "\n",
            "Options:\n",
            "1. Add Customer\n",
            "2. Serve Customer\n",
            "3. Display Queue\n",
            "4. Display Served Customers\n",
            "5. Clear Queue\n",
            "6. Exit\n",
            "Enter your choice: 2\n",
            "No customers are waiting.\n",
            "\n",
            "Options:\n",
            "1. Add Customer\n",
            "2. Serve Customer\n",
            "3. Display Queue\n",
            "4. Display Served Customers\n",
            "5. Clear Queue\n",
            "6. Exit\n",
            "Enter your choice: 4\n",
            "Served customers:\n",
            "1. samith\n",
            "\n",
            "Options:\n",
            "1. Add Customer\n",
            "2. Serve Customer\n",
            "3. Display Queue\n",
            "4. Display Served Customers\n",
            "5. Clear Queue\n",
            "6. Exit\n",
            "Enter your choice: 3\n",
            "The queue is empty.\n",
            "\n",
            "Options:\n",
            "1. Add Customer\n",
            "2. Serve Customer\n",
            "3. Display Queue\n",
            "4. Display Served Customers\n",
            "5. Clear Queue\n",
            "6. Exit\n",
            "Enter your choice: 5\n",
            "The queue has been cleared.\n",
            "\n",
            "Options:\n",
            "1. Add Customer\n",
            "2. Serve Customer\n",
            "3. Display Queue\n",
            "4. Display Served Customers\n",
            "5. Clear Queue\n",
            "6. Exit\n",
            "Enter your choice: 6\n",
            "Exiting...\n"
          ]
        }
      ]
    },
    {
      "cell_type": "markdown",
      "source": [
        "12. Write a Python program to calculate the total work hours per month based on\n",
        "user-entered work date numbers from 1 to 31 and the number of work hours per day. To complete this task, first, you have to enter the in-time and out-time for each date. Store these entries in a 2D array. Print the hours worked for each entry. Calculate and print the total hours worked."
      ],
      "metadata": {
        "id": "b1xBCcB9Mdtj"
      }
    },
    {
      "cell_type": "markdown",
      "source": [
        "For example:"
      ],
      "metadata": {
        "id": "qG3EEISCX9ZB"
      }
    },
    {
      "cell_type": "markdown",
      "source": [
        "Input:\n",
        "\n",
        "Enter date: 1 or 2 or ... up to 31.\n",
        "\n",
        "Enter in hour (24H): 22\n",
        "\n",
        "Enter in minutes: 30\n",
        "\n",
        "Enter out hour (24H): 2\n",
        "\n",
        "Enter out minutes: 15"
      ],
      "metadata": {
        "id": "06p9zhgrYFqb"
      }
    },
    {
      "cell_type": "markdown",
      "source": [
        "Calculation:\n",
        "\n",
        "In minutes: 22*60 + 30 = 1350\n",
        "\n",
        "Out minutes (next day): (24 + 2)*60 + 15 = 1575\n",
        "\n",
        "Duration in minutes: 1575 - 1350 = 225\n",
        "\n",
        "Duration in hours: 225 / 60 = 3.75"
      ],
      "metadata": {
        "id": "00aA7aI_YNs7"
      }
    },
    {
      "cell_type": "markdown",
      "source": [
        "Output: 3.75 hours"
      ],
      "metadata": {
        "id": "EUx1zSu2YYrA"
      }
    },
    {
      "cell_type": "markdown",
      "source": [
        "Calculate the total number of hours per month. After completing and running the Python program, the outputs should be given as follows when inputs are:"
      ],
      "metadata": {
        "id": "mRTc2eyQYfgh"
      }
    },
    {
      "cell_type": "markdown",
      "source": [
        "Enter date number [1 to 31]: 3\n",
        "\n",
        "Enter in hour (24H): 7\n",
        "\n",
        "Enter in minutes: 30\n",
        "\n",
        "Enter out hour (24H): 10\n",
        "\n",
        "Enter out minutes: 0\n",
        "\n",
        "Do you want to continue? [y/n]: y\n",
        "\n",
        "Enter date number [1 to 31]: 5\n",
        "\n",
        "Enter in hour (24H): 20\n",
        "\n",
        "Enter in minutes: 30\n",
        "\n",
        "Enter out hour (24H): 1\n",
        "\n",
        "Enter out minutes: 0\n",
        "\n",
        "Do you want to continue? [y/n]: n"
      ],
      "metadata": {
        "id": "E5LdSumEYlxe"
      }
    },
    {
      "cell_type": "markdown",
      "source": [
        "Outputs:\n",
        "\n",
        "Date no , hours worked\n",
        "\n",
        "[[ 1. 0. ]\n",
        "\n",
        "[ 2. 0. ]\n",
        "\n",
        "[ 3. 2.5]\n",
        "\n",
        "[ 4. 0. ]\n",
        "\n",
        "[ 5. 4.5]\n",
        "\n",
        "[ 6. 0. ]\n",
        "\n",
        "[ 7. 0. ]\n",
        "\n",
        "[ 8. 0. ]\n",
        "\n",
        "[ 9. 0. ]\n",
        "\n",
        "[10. 0. ]\n",
        "\n",
        "[11. 0. ]\n",
        "\n",
        "[12. 0. ]\n",
        "\n",
        "[13. 0. ]\n",
        "\n",
        "[14. 0. ]\n",
        "\n",
        "[15. 0. ]\n",
        "\n",
        "[16. 0. ]\n",
        "\n",
        "[17. 0. ]\n",
        "\n",
        "[18. 0. ]\n",
        "\n",
        "[19. 0. ]\n",
        "\n",
        "[20. 0. ]\n",
        "\n",
        "[21. 0. ]\n",
        "\n",
        "[22. 0. ]\n",
        "\n",
        "[23. 0. ]\n",
        "\n",
        "[24. 0. ]\n",
        "\n",
        "[25. 0. ]\n",
        "\n",
        "[26. 0. ]\n",
        "\n",
        "[27. 0. ]\n",
        "\n",
        "[28. 0. ]\n",
        "\n",
        "[29. 0. ]\n",
        "\n",
        "[30. 0. ]\n",
        "\n",
        "[31. 0. ]]\n",
        "\n",
        "Total hours worked: 7.0"
      ],
      "metadata": {
        "id": "j36fNVbHY052"
      }
    },
    {
      "cell_type": "markdown",
      "source": [
        "Use the following variables to calculate the duration:\n",
        "\n",
        "\n",
        "*   In_h (for in hour - starting hour)\n",
        "*   In_m (for in minutes - starting minutes)\n",
        "*   Out_h (for out hour - ending hour)\n",
        "*   Out_m (for out minutes - ending minutes)\n",
        "*   Dur (duration - difference between out hour and in hour)"
      ],
      "metadata": {
        "id": "isuilXIQZSp-"
      }
    },
    {
      "cell_type": "markdown",
      "source": [
        "Input descriptions should be as follows (all variables are integers):\n",
        "\n",
        "Enter date number [1 to 31]\n",
        "\n",
        "Enter in hour (24H):\n",
        "\n",
        "Enter in minutes:\n",
        "\n",
        "Enter out hour (24H):\n",
        "\n",
        "Enter out minutes:"
      ],
      "metadata": {
        "id": "6jFGVb_YZvXx"
      }
    },
    {
      "cell_type": "markdown",
      "source": [
        "Calculation to measure the duration is as follows:"
      ],
      "metadata": {
        "id": "OClxifxxaIL_"
      }
    },
    {
      "cell_type": "markdown",
      "source": [
        "if out_h > in_h\n",
        "\n",
        "dur = ((out_h * 60 + out_m) - (in_h * 60 + in_m)) / 60\n",
        "\n",
        "else\n",
        "\n",
        "dur = (((24 + out_h) * 60 + out_m) - (in_h * 60 + in_m)) / 60"
      ],
      "metadata": {
        "id": "roFDnGwjbEqR"
      }
    },
    {
      "cell_type": "markdown",
      "source": [
        "Use the following variables to calculate the total number of hours worked:\n",
        "\n",
        "*   tot_h: Total hours worked\n",
        "*   date_time_du: 2D array to store date number and worked hours for the relevant date. Size is 2 columns and 31 rows. 1st column for date number and 2nd column for worked hours. 31 rows for the number of days in a month."
      ],
      "metadata": {
        "id": "hXNgS325bT9w"
      }
    },
    {
      "cell_type": "markdown",
      "source": [
        "Use the following formula to calculate total hours worked per month:\n",
        "\n",
        "tot_h = tot_h + date_time_du[i, 1]\n",
        "\n",
        "where i is the iteration variable from 1 to 31."
      ],
      "metadata": {
        "id": "SVt2Lqx-b0Dm"
      }
    },
    {
      "cell_type": "markdown",
      "source": [
        "Use the following functions to complete the Python program:\n",
        "\n",
        "1. initialize_date_time(date_time_du):\n",
        "\n",
        "○ Input parameter: date_time_du\n",
        "\n",
        "○ Initialize the first column with date numbers from 1 to 31.\n",
        "2. enter_date():\n",
        "\n",
        "○ Prompts the user to input the date (1 to 31).\n",
        "\n",
        "○ Return variable: dt\n",
        "3. cal_duration():\n",
        "\n",
        "○ Calculates the duration in decimal hours between the in-time and out-time\n",
        "provided by the user.\n",
        "\n",
        "○ Prompts the user to enter in/out hour and in/out minutes.\n",
        "\n",
        "○ Returns the duration as a decimal number.\n",
        "4. data_array(date_time_du, dt, dur):\n",
        "\n",
        "○ Updates the second element of the first row in the date_time_du array where\n",
        "the first element matches the given dt value.\n",
        "\n",
        "○ Once it finds the matching row, it sets the second element to dur and then\n",
        "exits the loop.\n",
        "\n",
        "○ Returns the modified array.\n",
        "5. print_hours_worked(date_time_du):\n",
        "\n",
        "○ Prints the contents of the date_time_du array.\n",
        "6. cal_tot_h(date_time_du):\n",
        "\n",
        "○ Calculates the total hours worked by summing the hours from each row in\n",
        "the date_time_du array.\n",
        "\n",
        "○ Return value: tot_h\n",
        "\n",
        "After calling all functions, the main program should print the total hours worked (tot_h)."
      ],
      "metadata": {
        "id": "AbDHLFhMb_0V"
      }
    },
    {
      "cell_type": "code",
      "source": [
        "import numpy as np  #Import numpy to use a 2D array (matrix) for storing dates and work hours\n",
        "#1. Function to initialize the date_time_du array\n",
        "def initialize_date_time(date_time_du):\n",
        "    for i in range(31):\n",
        "        date_time_du[i][0] = i + 1    #Set the first column to date numbers from 1 to 31\n",
        "        date_time_du[i][1] = 0.0      #Set the second column (hours worked) to 0\n",
        "#2. Function to enter a valid date between 1 and 31\n",
        "def enter_date():\n",
        "    while True:\n",
        "        dt = int(input(\"Enter date number [1 to 31]: \"))  #Ask user for date\n",
        "        if 1 <= dt <= 31:     #Check if it's within valid range\n",
        "            return dt         #Return valid date\n",
        "        else:\n",
        "            print(\"Invalid date. Please enter a number between 1 and 31.\")\n",
        "#3. Function to calculate duration (hours worked) between in-time and out-time\n",
        "def cal_duration():\n",
        "    In_h = int(input(\"Enter in hour (24H): \"))   #In-time hour\n",
        "    In_m = int(input(\"Enter in minutes: \"))      #In-time minute\n",
        "    Out_h = int(input(\"Enter out hour (24H): \")) #Out-time hour\n",
        "    Out_m = int(input(\"Enter out minutes: \"))    #Out-time minute\n",
        "    in_minutes = In_h * 60 + In_m  #Convert in-time to total minutes\n",
        "\n",
        "    #If out-time is on the same day or later in 24h format\n",
        "    if Out_h >= In_h:\n",
        "        out_minutes = Out_h * 60 + Out_m  #Convert out-time to minutes\n",
        "    else:\n",
        "        #If out-time is on the next day, add 24 hours\n",
        "        out_minutes = (24 + Out_h) * 60 + Out_m\n",
        "\n",
        "    Dur = (out_minutes - in_minutes) / 60  #Calculate duration in hours\n",
        "    print(f\"Hours worked: {Dur:.2f} hours\")  #Print duration\n",
        "    return Dur\n",
        "\n",
        "#4. Function to update the 2D array with duration for the given date\n",
        "def data_array(date_time_du, dt, dur):\n",
        "    for i in range(31):\n",
        "        if date_time_du[i][0] == dt:       #Match date number\n",
        "            date_time_du[i][1] = dur       #Store duration in hours\n",
        "            break                          #Stop loop after updating\n",
        "    return date_time_du\n",
        "\n",
        "#5. Function to print hours worked for all dates\n",
        "def print_hours_worked(date_time_du):\n",
        "    print(\"\\nDate no , hours worked\")\n",
        "    print(date_time_du)   # Print the full array (date and hours worked)\n",
        "\n",
        "#6. Function to calculate total hours worked for the month\n",
        "def cal_tot_h(date_time_du):\n",
        "    tot_h = 0\n",
        "    for i in range(31):\n",
        "        tot_h += date_time_du[i][1]  #Sum all durations\n",
        "    return tot_h\n",
        "\n",
        "#Main program function\n",
        "def main():\n",
        "    date_time_du = np.zeros((31, 2))  #Create 31x2 array filled with zeros\n",
        "    initialize_date_time(date_time_du)  #Initialize it with date numbers\n",
        "\n",
        "    while True:\n",
        "        dt = enter_date()           #Get date from user\n",
        "        dur = cal_duration()        #Calculate duration for that date\n",
        "        data_array(date_time_du, dt, dur)  #Store data in array\n",
        "        #Ask if user wants to continue\n",
        "        cont = input(\"Do you want to continue? [y/n]: \").strip().lower()\n",
        "        if cont != 'y':\n",
        "            break  #Exit loop if user types anything other than 'y'\n",
        "\n",
        "    print_hours_worked(date_time_du)          #Display full table\n",
        "    tot_h = cal_tot_h(date_time_du)           #Calculate total hours worked\n",
        "    print(f\"\\nTotal hours worked: {tot_h:.2f}\")  #Print total hours\n",
        "\n",
        "#Run the main program\n",
        "main()"
      ],
      "metadata": {
        "colab": {
          "base_uri": "https://localhost:8080/"
        },
        "id": "h84jT0pEUait",
        "outputId": "47c3a09f-cfc7-4fba-b192-a673866e6955"
      },
      "execution_count": null,
      "outputs": [
        {
          "output_type": "stream",
          "name": "stdout",
          "text": [
            "Enter date number [1 to 31]: 3\n",
            "Enter in hour (24H): 7\n",
            "Enter in minutes: 30\n",
            "Enter out hour (24H): 10\n",
            "Enter out minutes: 0\n",
            "Hours worked: 2.50 hours\n",
            "Do you want to continue? [y/n]: y\n",
            "Enter date number [1 to 31]: 5\n",
            "Enter in hour (24H): 20\n",
            "Enter in minutes: 30\n",
            "Enter out hour (24H): 1\n",
            "Enter out minutes: 0\n",
            "Hours worked: 4.50 hours\n",
            "Do you want to continue? [y/n]: n\n",
            "\n",
            "Date no , hours worked\n",
            "[[ 1.   0. ]\n",
            " [ 2.   0. ]\n",
            " [ 3.   2.5]\n",
            " [ 4.   0. ]\n",
            " [ 5.   4.5]\n",
            " [ 6.   0. ]\n",
            " [ 7.   0. ]\n",
            " [ 8.   0. ]\n",
            " [ 9.   0. ]\n",
            " [10.   0. ]\n",
            " [11.   0. ]\n",
            " [12.   0. ]\n",
            " [13.   0. ]\n",
            " [14.   0. ]\n",
            " [15.   0. ]\n",
            " [16.   0. ]\n",
            " [17.   0. ]\n",
            " [18.   0. ]\n",
            " [19.   0. ]\n",
            " [20.   0. ]\n",
            " [21.   0. ]\n",
            " [22.   0. ]\n",
            " [23.   0. ]\n",
            " [24.   0. ]\n",
            " [25.   0. ]\n",
            " [26.   0. ]\n",
            " [27.   0. ]\n",
            " [28.   0. ]\n",
            " [29.   0. ]\n",
            " [30.   0. ]\n",
            " [31.   0. ]]\n",
            "\n",
            "Total hours worked: 7.00\n"
          ]
        }
      ]
    }
  ]
}